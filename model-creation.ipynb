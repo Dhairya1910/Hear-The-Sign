{
 "cells": [
  {
   "cell_type": "code",
   "execution_count": null,
   "metadata": {
    "colab": {
     "base_uri": "https://localhost:8080/"
    },
    "executionInfo": {
     "elapsed": 4233,
     "status": "ok",
     "timestamp": 1744136442748,
     "user": {
      "displayName": "Dhairya Vaghela",
      "userId": "10315392567157796302"
     },
     "user_tz": -330
    },
    "id": "c7TJBoBOoKSa",
    "outputId": "1abc91f4-b395-45f9-c090-214b613d0e9a"
   },
   "outputs": [
    {
     "name": "stdout",
     "output_type": "stream",
     "text": [
      "Collecting split-folders\n",
      "  Downloading split_folders-0.5.1-py3-none-any.whl.metadata (6.2 kB)\n",
      "Downloading split_folders-0.5.1-py3-none-any.whl (8.4 kB)\n",
      "Installing collected packages: split-folders\n",
      "Successfully installed split-folders-0.5.1\n"
     ]
    }
   ],
   "source": [
    "!pip install split-folders"
   ]
  },
  {
   "cell_type": "code",
   "execution_count": null,
   "metadata": {
    "execution": {
     "iopub.execute_input": "2025-04-07T11:23:42.128948Z",
     "iopub.status.busy": "2025-04-07T11:23:42.128644Z",
     "iopub.status.idle": "2025-04-07T11:23:42.133893Z",
     "shell.execute_reply": "2025-04-07T11:23:42.132967Z",
     "shell.execute_reply.started": "2025-04-07T11:23:42.128927Z"
    },
    "id": "x8GRw3SGboWa",
    "trusted": true
   },
   "outputs": [],
   "source": [
    "import cv2 as cv\n",
    "import pandas as pd\n",
    "import numpy as np\n",
    "import matplotlib.pyplot as plt\n",
    "import os\n",
    "import keras\n",
    "from tensorflow import keras\n",
    "from keras.utils import to_categorical\n",
    "import torch\n",
    "import torchvision\n",
    "from torch.utils.data import DataLoader\n",
    "from torchvision import datasets, transforms, models\n",
    "from PIL import Image\n",
    "import PIL\n",
    "import torch.nn as nn\n",
    "import torch.optim as optim\n",
    "import splitfolders\n",
    "import seaborn as sns\n",
    "from sklearn.metrics import classification_report,confusion_matrix"
   ]
  },
  {
   "cell_type": "code",
   "execution_count": null,
   "metadata": {
    "colab": {
     "base_uri": "https://localhost:8080/"
    },
    "executionInfo": {
     "elapsed": 41311,
     "status": "ok",
     "timestamp": 1744136357519,
     "user": {
      "displayName": "Dhairya Vaghela",
      "userId": "10315392567157796302"
     },
     "user_tz": -330
    },
    "id": "L6HlSKRdoBbw",
    "outputId": "7d3d5790-b929-461d-d7cb-704f33c4b372"
   },
   "outputs": [
    {
     "name": "stdout",
     "output_type": "stream",
     "text": [
      "Mounted at /content/drive\n"
     ]
    }
   ],
   "source": [
    "from google.colab import drive\n",
    "drive.mount('/content/drive')"
   ]
  },
  {
   "cell_type": "code",
   "execution_count": null,
   "metadata": {
    "colab": {
     "base_uri": "https://localhost:8080/"
    },
    "execution": {
     "iopub.execute_input": "2025-04-07T11:10:24.908651Z",
     "iopub.status.busy": "2025-04-07T11:10:24.908332Z",
     "iopub.status.idle": "2025-04-07T11:11:40.666079Z",
     "shell.execute_reply": "2025-04-07T11:11:40.665419Z",
     "shell.execute_reply.started": "2025-04-07T11:10:24.908616Z"
    },
    "executionInfo": {
     "elapsed": 272147,
     "status": "ok",
     "timestamp": 1744136903392,
     "user": {
      "displayName": "Dhairya Vaghela",
      "userId": "10315392567157796302"
     },
     "user_tz": -330
    },
    "id": "-bW22dxxnvnD",
    "outputId": "1c1c751f-4ecc-46d6-de96-00c35a26b35b",
    "trusted": true
   },
   "outputs": [
    {
     "name": "stderr",
     "output_type": "stream",
     "text": [
      "Copying files: 10873 files [04:33, 39.82 files/s]\n"
     ]
    }
   ],
   "source": [
    "splitfolders.ratio(\"/content/drive/MyDrive/Hear the Sign/Dataset/Images\",output=\"/content/drive/MyDrive/Hear the Sign/Dataset/working/\",seed=1337,ratio=(.8,.1,.1),group_prefix=None)"
   ]
  },
  {
   "cell_type": "code",
   "execution_count": null,
   "metadata": {
    "execution": {
     "iopub.execute_input": "2025-04-07T11:11:42.808447Z",
     "iopub.status.busy": "2025-04-07T11:11:42.808159Z",
     "iopub.status.idle": "2025-04-07T11:11:42.813008Z",
     "shell.execute_reply": "2025-04-07T11:11:42.812153Z",
     "shell.execute_reply.started": "2025-04-07T11:11:42.808425Z"
    },
    "id": "QJzHMGoCnvnK",
    "trusted": true
   },
   "outputs": [],
   "source": [
    "preprocess = transforms.Compose([\n",
    "    transforms.Resize((256,256),PIL.Image.BILINEAR),\n",
    "    transforms.CenterCrop(224),\n",
    "    transforms.ToTensor(),\n",
    "    transforms.Normalize(mean=[0.485, 0.456, 0.406], std=[0.229, 0.224, 0.225]),\n",
    "])"
   ]
  },
  {
   "cell_type": "code",
   "execution_count": null,
   "metadata": {
    "execution": {
     "iopub.execute_input": "2025-04-07T11:11:45.722640Z",
     "iopub.status.busy": "2025-04-07T11:11:45.722346Z",
     "iopub.status.idle": "2025-04-07T11:11:45.753550Z",
     "shell.execute_reply": "2025-04-07T11:11:45.752704Z",
     "shell.execute_reply.started": "2025-04-07T11:11:45.722613Z"
    },
    "id": "YXzkpZXvnvnO",
    "trusted": true
   },
   "outputs": [],
   "source": [
    "Train_dataset = datasets.ImageFolder('/content/drive/MyDrive/Hear the Sign/Dataset/working/train', transform=preprocess)\n",
    "Test_dataset = datasets.ImageFolder('/content/drive/MyDrive/Hear the Sign/Dataset/working/test', transform=preprocess)"
   ]
  },
  {
   "cell_type": "code",
   "execution_count": null,
   "metadata": {
    "execution": {
     "iopub.execute_input": "2025-04-07T11:11:57.858511Z",
     "iopub.status.busy": "2025-04-07T11:11:57.858212Z",
     "iopub.status.idle": "2025-04-07T11:11:57.862664Z",
     "shell.execute_reply": "2025-04-07T11:11:57.861990Z",
     "shell.execute_reply.started": "2025-04-07T11:11:57.858487Z"
    },
    "id": "Fq4I74danvnQ",
    "trusted": true
   },
   "outputs": [],
   "source": [
    "train_loader = DataLoader(Train_dataset, batch_size=32, shuffle=True)\n",
    "test_loader = DataLoader(Test_dataset,batch_size=32,shuffle=False)"
   ]
  },
  {
   "cell_type": "code",
   "execution_count": null,
   "metadata": {
    "colab": {
     "base_uri": "https://localhost:8080/"
    },
    "execution": {
     "iopub.execute_input": "2025-04-07T11:12:02.956459Z",
     "iopub.status.busy": "2025-04-07T11:12:02.956109Z",
     "iopub.status.idle": "2025-04-07T11:12:03.619006Z",
     "shell.execute_reply": "2025-04-07T11:12:03.618332Z",
     "shell.execute_reply.started": "2025-04-07T11:12:02.956432Z"
    },
    "executionInfo": {
     "elapsed": 1151,
     "status": "ok",
     "timestamp": 1744136925420,
     "user": {
      "displayName": "Dhairya Vaghela",
      "userId": "10315392567157796302"
     },
     "user_tz": -330
    },
    "id": "YbZBGDXxnvnR",
    "outputId": "599425d5-a9c5-4868-d812-f9b8273222da",
    "trusted": true
   },
   "outputs": [
    {
     "name": "stderr",
     "output_type": "stream",
     "text": [
      "/usr/local/lib/python3.11/dist-packages/torchvision/models/_utils.py:208: UserWarning: The parameter 'pretrained' is deprecated since 0.13 and may be removed in the future, please use 'weights' instead.\n",
      "  warnings.warn(\n",
      "/usr/local/lib/python3.11/dist-packages/torchvision/models/_utils.py:223: UserWarning: Arguments other than a weight enum or `None` for 'weights' are deprecated since 0.13 and may be removed in the future. The current behavior is equivalent to passing `weights=ResNet18_Weights.IMAGENET1K_V1`. You can also use `weights=ResNet18_Weights.DEFAULT` to get the most up-to-date weights.\n",
      "  warnings.warn(msg)\n",
      "Downloading: \"https://download.pytorch.org/models/resnet18-f37072fd.pth\" to /root/.cache/torch/hub/checkpoints/resnet18-f37072fd.pth\n",
      "100%|██████████| 44.7M/44.7M [00:00<00:00, 174MB/s]\n"
     ]
    }
   ],
   "source": [
    "Model = models.resnet18(pretrained=True)\n",
    "num_class = len(Train_dataset.classes)\n",
    "Model.fc = nn.Linear(Model.fc.in_features, num_class)"
   ]
  },
  {
   "cell_type": "markdown",
   "metadata": {
    "id": "RnjvDCdGnvnT"
   },
   "source": [
    "**Code for dual GPU usage**"
   ]
  },
  {
   "cell_type": "code",
   "execution_count": null,
   "metadata": {
    "execution": {
     "iopub.execute_input": "2025-04-07T11:12:22.333428Z",
     "iopub.status.busy": "2025-04-07T11:12:22.333092Z",
     "iopub.status.idle": "2025-04-07T11:12:22.444597Z",
     "shell.execute_reply": "2025-04-07T11:12:22.443722Z",
     "shell.execute_reply.started": "2025-04-07T11:12:22.333401Z"
    },
    "id": "dvUTeOIWnvnZ",
    "trusted": true
   },
   "outputs": [],
   "source": [
    "if torch.cuda.device_count() > 1:\n",
    "    Model = nn.DataParallel(Model)"
   ]
  },
  {
   "cell_type": "code",
   "execution_count": null,
   "metadata": {
    "execution": {
     "iopub.execute_input": "2025-04-07T11:12:24.588231Z",
     "iopub.status.busy": "2025-04-07T11:12:24.587887Z",
     "iopub.status.idle": "2025-04-07T11:12:24.777238Z",
     "shell.execute_reply": "2025-04-07T11:12:24.776561Z",
     "shell.execute_reply.started": "2025-04-07T11:12:24.588203Z"
    },
    "id": "YgeCobFanvnb",
    "trusted": true
   },
   "outputs": [],
   "source": [
    "device = torch.device('cuda' if torch.cuda.is_available() else 'cpu')\n",
    "Model = Model.to(device)"
   ]
  },
  {
   "cell_type": "code",
   "execution_count": null,
   "metadata": {
    "execution": {
     "iopub.execute_input": "2025-04-07T11:12:26.683816Z",
     "iopub.status.busy": "2025-04-07T11:12:26.683521Z",
     "iopub.status.idle": "2025-04-07T11:12:26.688620Z",
     "shell.execute_reply": "2025-04-07T11:12:26.687631Z",
     "shell.execute_reply.started": "2025-04-07T11:12:26.683794Z"
    },
    "id": "GhRlXVQCnvnc",
    "trusted": true
   },
   "outputs": [],
   "source": [
    "criterion = nn.CrossEntropyLoss()\n",
    "optimizer = torch.optim.Adam(Model.parameters(), lr=0.001)"
   ]
  },
  {
   "cell_type": "code",
   "execution_count": null,
   "metadata": {
    "colab": {
     "base_uri": "https://localhost:8080/"
    },
    "execution": {
     "iopub.execute_input": "2025-04-07T11:12:29.408680Z",
     "iopub.status.busy": "2025-04-07T11:12:29.408350Z",
     "iopub.status.idle": "2025-04-07T11:16:01.010469Z",
     "shell.execute_reply": "2025-04-07T11:16:01.009662Z",
     "shell.execute_reply.started": "2025-04-07T11:12:29.408652Z"
    },
    "executionInfo": {
     "elapsed": 368416,
     "status": "ok",
     "timestamp": 1744138166153,
     "user": {
      "displayName": "Dhairya Vaghela",
      "userId": "10315392567157796302"
     },
     "user_tz": -330
    },
    "id": "OUAwk-n0nvng",
    "outputId": "eaa148d5-8edc-4c1a-cf01-c885f9e262be",
    "trusted": true
   },
   "outputs": [
    {
     "name": "stdout",
     "output_type": "stream",
     "text": [
      "Epoch 1, Loss: 0.1463\n",
      "Epoch 2, Loss: 0.1087\n",
      "Epoch 3, Loss: 0.1107\n",
      "Epoch 4, Loss: 0.1105\n",
      "Epoch 5, Loss: 0.0279\n"
     ]
    }
   ],
   "source": [
    "epochs = 5\n",
    "for epoch in range(epochs):\n",
    "    Model.train()\n",
    "    running_loss = 0.0\n",
    "    for images, labels in train_loader:\n",
    "        images, labels = images.to(device), labels.to(device)\n",
    "\n",
    "        optimizer.zero_grad()\n",
    "        outputs = Model(images)\n",
    "        loss = criterion(outputs, labels)\n",
    "        loss.backward()\n",
    "        optimizer.step()\n",
    "\n",
    "        running_loss += loss.item()\n",
    "\n",
    "    print(f\"Epoch {epoch+1}, Loss: {running_loss/len(train_loader):.4f}\")"
   ]
  },
  {
   "cell_type": "markdown",
   "metadata": {
    "id": "mteEKMLinvni"
   },
   "source": [
    "# Model-Validation"
   ]
  },
  {
   "cell_type": "code",
   "execution_count": null,
   "metadata": {
    "colab": {
     "base_uri": "https://localhost:8080/"
    },
    "execution": {
     "iopub.execute_input": "2025-04-07T11:16:48.438381Z",
     "iopub.status.busy": "2025-04-07T11:16:48.438041Z",
     "iopub.status.idle": "2025-04-07T11:16:52.312995Z",
     "shell.execute_reply": "2025-04-07T11:16:52.312117Z",
     "shell.execute_reply.started": "2025-04-07T11:16:48.438356Z"
    },
    "executionInfo": {
     "elapsed": 8455,
     "status": "ok",
     "timestamp": 1744138185980,
     "user": {
      "displayName": "Dhairya Vaghela",
      "userId": "10315392567157796302"
     },
     "user_tz": -330
    },
    "id": "LdaVsNkfnvnj",
    "outputId": "48ac2e02-8b4e-4d75-d754-3834104a8b11",
    "trusted": true
   },
   "outputs": [
    {
     "name": "stdout",
     "output_type": "stream",
     "text": [
      "Test Accuracy: 94.87%\n"
     ]
    }
   ],
   "source": [
    "All_preds = []\n",
    "All_Labels = []\n",
    "Model.eval()\n",
    "correct = 0\n",
    "total = 0\n",
    "with torch.no_grad():\n",
    "    for images, labels in test_loader:\n",
    "        images, labels = images.to(device), labels.to(device)\n",
    "        outputs = Model(images)\n",
    "        x, predicted = torch.max(outputs, 1)\n",
    "        total += labels.size(0)\n",
    "        correct += (predicted == labels).sum().item()\n",
    "        All_preds.extend(predicted.cpu().numpy())\n",
    "        All_Labels.extend(labels.cpu().numpy())\n",
    "\n",
    "test_acc = 100 * correct / total\n",
    "print(f\"Test Accuracy: {test_acc:.2f}%\")"
   ]
  },
  {
   "cell_type": "markdown",
   "metadata": {
    "id": "GEgGWoL4nvnp"
   },
   "source": [
    "# Saving the Model"
   ]
  },
  {
   "cell_type": "code",
   "execution_count": null,
   "metadata": {
    "execution": {
     "iopub.execute_input": "2025-04-07T11:25:15.583958Z",
     "iopub.status.busy": "2025-04-07T11:25:15.583623Z",
     "iopub.status.idle": "2025-04-07T11:25:15.661748Z",
     "shell.execute_reply": "2025-04-07T11:25:15.660811Z",
     "shell.execute_reply.started": "2025-04-07T11:25:15.583932Z"
    },
    "id": "SgnDrwxLnvnp",
    "trusted": true
   },
   "outputs": [],
   "source": [
    "torch.save(Model.state_dict(), '/content/drive/MyDrive/Hear the Sign/Main files/hear_the_sign-rebooted.pth')"
   ]
  },
  {
   "cell_type": "markdown",
   "metadata": {
    "id": "LHnaQd04rHbs"
   },
   "source": [
    "# Creating Classification report and Confusion matrix"
   ]
  },
  {
   "cell_type": "code",
   "execution_count": null,
   "metadata": {
    "colab": {
     "base_uri": "https://localhost:8080/"
    },
    "executionInfo": {
     "elapsed": 760,
     "status": "ok",
     "timestamp": 1744138197342,
     "user": {
      "displayName": "Dhairya Vaghela",
      "userId": "10315392567157796302"
     },
     "user_tz": -330
    },
    "id": "P-bKlh4rrHKI",
    "outputId": "b9496c19-b460-4409-c4aa-a81c562279e9"
   },
   "outputs": [
    {
     "name": "stdout",
     "output_type": "stream",
     "text": [
      "Classification Report:\n",
      "\n",
      "              precision    recall  f1-score   support\n",
      "\n",
      "           A       1.00      1.00      1.00        42\n",
      "           B       0.95      0.98      0.97        43\n",
      "           C       1.00      0.95      0.98        42\n",
      "           D       0.98      0.95      0.96        42\n",
      "           E       0.91      0.98      0.94        42\n",
      "           F       0.95      0.95      0.95        42\n",
      "           G       0.98      0.98      0.98        42\n",
      "           H       0.91      1.00      0.96        43\n",
      "           I       0.88      0.86      0.87        42\n",
      "           J       0.82      0.98      0.89        42\n",
      "           K       0.91      0.93      0.92        42\n",
      "           L       0.95      0.98      0.96        42\n",
      "           M       0.95      0.95      0.95        42\n",
      "           N       0.98      0.93      0.95        43\n",
      "           O       1.00      0.98      0.99        42\n",
      "           P       1.00      0.88      0.94        43\n",
      "           Q       0.95      1.00      0.97        38\n",
      "           R       0.95      0.95      0.95        42\n",
      "           S       0.98      0.95      0.96        42\n",
      "           T       0.91      0.93      0.92        42\n",
      "           U       1.00      0.98      0.99        42\n",
      "           V       0.89      1.00      0.94        42\n",
      "           W       1.00      0.88      0.94        42\n",
      "           X       0.93      0.95      0.94        42\n",
      "           Y       0.98      0.98      0.98        42\n",
      "           Z       0.97      0.79      0.87        42\n",
      "\n",
      "    accuracy                           0.95      1092\n",
      "   macro avg       0.95      0.95      0.95      1092\n",
      "weighted avg       0.95      0.95      0.95      1092\n",
      "\n"
     ]
    }
   ],
   "source": [
    "target_names = [chr(i) for i in range(65, 91)]\n",
    "print(\"Classification Report:\\n\")\n",
    "print(classification_report(All_Labels, All_preds, target_names=target_names))"
   ]
  },
  {
   "cell_type": "code",
   "execution_count": null,
   "metadata": {
    "colab": {
     "base_uri": "https://localhost:8080/",
     "height": 872
    },
    "executionInfo": {
     "elapsed": 4298,
     "status": "ok",
     "timestamp": 1744138272360,
     "user": {
      "displayName": "Dhairya Vaghela",
      "userId": "10315392567157796302"
     },
     "user_tz": -330
    },
    "id": "QNbGOLSzvPLU",
    "outputId": "41db5866-f1a7-4129-b420-c8e66cf1beea"
   },
   "outputs": [
    {
     "data": {
      "image/png": "[encoded data removed]",
      "text/plain": [
       "<Figure size 1200x1000 with 2 Axes>"
      ]
     },
     "metadata": {},
     "output_type": "display_data"
    }
   ],
   "source": [
    "cm = confusion_matrix(All_Labels, All_preds)\n",
    "df_cm = pd.DataFrame(cm, index=target_names, columns=target_names)\n",
    "\n",
    "plt.figure(figsize=(12, 10))\n",
    "sns.heatmap(df_cm, annot=True, fmt='d', cmap='Blues')\n",
    "plt.xlabel(\"Predicted\")\n",
    "plt.ylabel(\"True\")\n",
    "plt.title(\"Confusion Matrix\")\n",
    "plt.show()"
   ]
  },
  {
   "cell_type": "markdown",
   "metadata": {
    "id": "X7qLFBwRnvnp"
   },
   "source": [
    "# Failed Model"
   ]
  },
  {
   "cell_type": "code",
   "execution_count": null,
   "metadata": {
    "id": "nR07l0Qsv51e",
    "trusted": true
   },
   "outputs": [],
   "source": [
    "Images = np.array(Images, dtype='float32') / 255.0\n",
    "Labels = np.array(Labels)\n",
    "Images = Images.reshape(-1, 255, 255, 1)\n",
    "\n",
    "Y = to_categorical(Labels,num_classes=26)\n",
    "\n",
    "print(Images.shape)"
   ]
  },
  {
   "cell_type": "code",
   "execution_count": null,
   "metadata": {
    "id": "JU3nAa8l14e2",
    "trusted": true
   },
   "outputs": [],
   "source": [
    "Images = np.load(\"/content/drive/MyDrive/Hear the Sign/Dataset/Images.npy\")\n",
    "Labels = np.load(\"/content/drive/MyDrive/Hear the Sign/Dataset/Labels.npy\")"
   ]
  },
  {
   "cell_type": "code",
   "execution_count": null,
   "metadata": {
    "id": "p20lAWO6pY6a",
    "trusted": true
   },
   "outputs": [],
   "source": [
    "np.save('/content/drive/MyDrive/Hear the Sign/Dataset/Images.npy',Images)\n",
    "np.save('/content/drive/MyDrive/Hear the Sign/Dataset/Labels.npy',Labels)"
   ]
  },
  {
   "cell_type": "code",
   "execution_count": null,
   "metadata": {
    "id": "lTmkqTRTdULV",
    "trusted": true
   },
   "outputs": [],
   "source": [
    "def create_train():\n",
    "  Labels = []\n",
    "  Images = []\n",
    "  DIR = '/kaggle/input/handsign-colored-1/Images'\n",
    "  for folder in os.listdir(DIR):\n",
    "    path = os.path.join(DIR,folder)\n",
    "    for images in os.listdir(path):\n",
    "      img_path = os.path.join(path,images)\n",
    "      img = cv.imread(img_path)\n",
    "      Images.append(img)\n",
    "      Labels.append(ord(folder)-65)\n",
    "  return Labels,Images"
   ]
  },
  {
   "cell_type": "code",
   "execution_count": null,
   "metadata": {
    "id": "OtK5cg7Vw2_0",
    "trusted": true
   },
   "outputs": [],
   "source": [
    "train_img,test_img,train_label,test_label = train_test_split(Images,Y,random_state=45)"
   ]
  },
  {
   "cell_type": "code",
   "execution_count": null,
   "metadata": {
    "id": "k7i632yUnvnt",
    "trusted": true
   },
   "outputs": [],
   "source": [
    "print(train_img.shape)\n",
    "print(\"Labels Shape:\", train_label.shape)"
   ]
  },
  {
   "cell_type": "code",
   "execution_count": null,
   "metadata": {
    "id": "y0j3J95rnvnu",
    "trusted": true
   },
   "outputs": [],
   "source": [
    "from tensorflow.keras.preprocessing.image import ImageDataGenerator\n",
    "\n",
    "datagen = ImageDataGenerator(\n",
    "    width_shift_range=0.2,\n",
    "    height_shift_range=0.2,\n",
    "    zoom_range=0.2,\n",
    ")\n",
    "\n",
    "datagen.fit(train_img)"
   ]
  },
  {
   "cell_type": "markdown",
   "metadata": {
    "id": "a-0ExKIEy43s"
   },
   "source": [
    "# Model Creation"
   ]
  },
  {
   "cell_type": "code",
   "execution_count": null,
   "metadata": {
    "id": "uL5k7WH8ySYt",
    "trusted": true
   },
   "outputs": [],
   "source": [
    "model = Sequential()\n",
    "\n",
    "# 1st Conv Block\n",
    "model.add(Conv2D(64, (3,3), activation='relu', input_shape=(255,255,1)))\n",
    "model.add(BatchNormalization())\n",
    "model.add(MaxPooling2D(pool_size=(2,2)))\n",
    "model.add(Dropout(0.25))\n",
    "\n",
    "# 2nd Conv Block\n",
    "model.add(Conv2D(128, (3,3), activation='relu'))\n",
    "model.add(BatchNormalization())\n",
    "model.add(MaxPooling2D(pool_size=(2,2)))\n",
    "model.add(Dropout(0.3))\n",
    "\n",
    "# 3rd Conv Block\n",
    "model.add(Conv2D(256, (3,3), activation='relu'))\n",
    "model.add(BatchNormalization())\n",
    "model.add(MaxPooling2D(pool_size=(2,2)))\n",
    "model.add(Dropout(0.4))\n",
    "\n",
    "# Fully Connected Layers\n",
    "model.add(Flatten())\n",
    "model.add(Dense(512, activation='relu'))\n",
    "model.add(Dropout(0.5))\n",
    "model.add(Dense(26, activation='softmax'))  # 26 classes (A-Z)"
   ]
  },
  {
   "cell_type": "markdown",
   "metadata": {
    "id": "M4TJx7kMnvnx"
   },
   "source": [
    "To less accuracy Model is guessing"
   ]
  },
  {
   "cell_type": "code",
   "execution_count": null,
   "metadata": {
    "id": "kdwTP71ryUry",
    "trusted": true
   },
   "outputs": [],
   "source": [
    "model.compile(loss='categorical_crossentropy',optimizer='Adam',metrics=['accuracy'])\n"
   ]
  },
  {
   "cell_type": "code",
   "execution_count": null,
   "metadata": {
    "id": "ePjf8xC-00ZF",
    "trusted": true
   },
   "outputs": [],
   "source": [
    "model.fit(datagen.flow(train_img,train_label,batch_size=32),validation_data=(test_img,test_label),epochs=30)"
   ]
  },
  {
   "cell_type": "code",
   "execution_count": null,
   "metadata": {
    "id": "nd7B_Zw05C14",
    "trusted": true
   },
   "outputs": [],
   "source": [
    "test = test_img[50]\n",
    "\n",
    "test = cv.resize(test,(255,255))\n",
    "test= np.expand_dims(test,axis=-1)\n",
    "test= np.expand_dims(test,axis=0)\n",
    "print(test.shape)\n",
    "\n",
    "res = model.predict(test)\n",
    "print(res)"
   ]
  },
  {
   "cell_type": "code",
   "execution_count": null,
   "metadata": {
    "id": "W5jVjFwqnvn0",
    "trusted": true
   },
   "outputs": [],
   "source": [
    "plt.imshow(test_img[50],cmap='gray')"
   ]
  },
  {
   "cell_type": "code",
   "execution_count": null,
   "metadata": {
    "id": "R3JQL4Gunvn1",
    "trusted": true
   },
   "outputs": [],
   "source": [
    "predicted_class = np.argmax(res)\n",
    "print(f\"Predicted Class: {predicted_class}\")"
   ]
  },
  {
   "cell_type": "code",
   "execution_count": null,
   "metadata": {
    "id": "nr-mR1TTnvn2",
    "trusted": true
   },
   "outputs": [],
   "source": [
    "import string\n",
    "letters = list(string.ascii_uppercase)  # ['A', 'B', ..., 'Z']\n",
    "print(f\"Predicted Letter: {letters[predicted_class]}\")"
   ]
  },
  {
   "cell_type": "markdown",
   "metadata": {
    "id": "dIKA5q4S4PqB"
   },
   "source": [
    "# Saving the Model"
   ]
  },
  {
   "cell_type": "code",
   "execution_count": null,
   "metadata": {
    "id": "5cGeiUGI1F-z",
    "trusted": true
   },
   "outputs": [],
   "source": [
    "import pickle\n",
    "model_pkl_file = 'Hear_the_sign.pkl'\n"
   ]
  }
 ],
 "metadata": {
  "accelerator": "GPU",
  "colab": {
   "gpuType": "T4",
   "provenance": []
  },
  "kaggle": {
   "accelerator": "nvidiaTeslaT4",
   "dataSources": [
    {
     "datasetId": 7045329,
     "sourceId": 11270688,
     "sourceType": "datasetVersion"
    }
   ],
   "dockerImageVersionId": 30918,
   "isGpuEnabled": true,
   "isInternetEnabled": true,
   "language": "python",
   "sourceType": "notebook"
  },
  "kernelspec": {
   "display_name": "Python 3",
   "language": "python",
   "name": "python3"
  },
  "language_info": {
   "codemirror_mode": {
    "name": "ipython",
    "version": 3
   },
   "file_extension": ".py",
   "mimetype": "text/x-python",
   "name": "python",
   "nbconvert_exporter": "python",
   "pygments_lexer": "ipython3",
   "version": "3.10.12"
  }
 },
 "nbformat": 4,
 "nbformat_minor": 0
}
